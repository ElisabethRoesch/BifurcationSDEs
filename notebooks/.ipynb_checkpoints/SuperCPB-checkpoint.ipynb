{
 "cells": [
  {
   "cell_type": "markdown",
   "metadata": {},
   "source": [
    "# Bifurcations and Noise"
   ]
  },
  {
   "cell_type": "markdown",
   "metadata": {},
   "source": [
    "## Potential landscape"
   ]
  },
  {
   "cell_type": "code",
   "execution_count": 1,
   "metadata": {},
   "outputs": [
    {
     "name": "stderr",
     "output_type": "stream",
     "text": [
      "┌ Info: Precompiling DifferentialEquations [0c46a032-eb83-5123-abaf-570d42b7fbaa]\n",
      "└ @ Base loading.jl:1260\n"
     ]
    }
   ],
   "source": [
    "using DifferentialEquations, KernelDensity, Plots, StatsBase\n",
    "\n",
    "# for testing solve_prob_alpha_sigma\n",
    "test_p = [-0.6, 0.1]\n",
    "# for testing rep_solve\n",
    "test_list_alpha, test_list_sigma = Array(range(-15., stop = 15.0, length = 9)), Array(range(-0., stop = 2.0, length = 5))\n",
    "tspan = (0.0, 2.0)\n",
    "\n",
    "function f(x, p, t) # neq\n",
    "    dx = p[1]*x[1]-x[1]^3\n",
    "    return [dx]\n",
    "end\n",
    "\n",
    "function g(x, p, t) # noiseeq\n",
    "    dx = p[2]*x[1]\n",
    "    return [dx]\n",
    "end\n",
    "\n",
    "test_prob_arg_list = [f, g, tspan];"
   ]
  },
  {
   "cell_type": "code",
   "execution_count": 2,
   "metadata": {},
   "outputs": [
    {
     "data": {
      "text/plain": [
       "solve_prob_alpha_sigma_old (generic function with 1 method)"
      ]
     },
     "execution_count": 2,
     "metadata": {},
     "output_type": "execute_result"
    }
   ],
   "source": [
    "function solve_prob_alpha_sigma_old(prob_arg_list, p_arg) # DO NOT TOUCH\n",
    "    temp_f, temp_g, temp_tspan = prob_arg_list\n",
    "    temp_p = p_arg\n",
    "    temp_outputs = Float64[]\n",
    "    initpoints = range(-1., stop = 1.0, length = 20)\n",
    "    Npoints = 200\n",
    "    timepoints = 0.0:0.2:2.0;\n",
    "    for val in initpoints\n",
    "        x0 = [val]\n",
    "        temp_prob = SDEProblem(temp_f, temp_g, x0, temp_tspan, temp_p)\n",
    "        for i in 1:Npoints    \n",
    "            nsol = solve(temp_prob)\n",
    "            append!(temp_outputs, collect(Iterators.flatten(nsol(timepoints))))\n",
    "        end\n",
    "    end\n",
    "    return temp_outputs\n",
    "end"
   ]
  },
  {
   "cell_type": "code",
   "execution_count": 3,
   "metadata": {},
   "outputs": [
    {
     "data": {
      "text/plain": [
       "solve_prob_alpha_sigma_new (generic function with 1 method)"
      ]
     },
     "execution_count": 3,
     "metadata": {},
     "output_type": "execute_result"
    }
   ],
   "source": [
    "function solve_prob_alpha_sigma_new(prob_arg_list, p_arg) # More efficient version\n",
    "    temp_f, temp_g, temp_tspan = prob_arg_list\n",
    "    temp_p = p_arg\n",
    "    initpoints = range(-5., stop = 5.0, length = 10) # keeping this low is good for performance\n",
    "    Npoints = 20 # keeping this low is good for performance\n",
    "    timepoints = 0.0:0.2:2.0 # changing stepsize doenst cost much but makes results smoother. changed start from 0.2 ( why was it 0.2 before?).\n",
    "    temp_outputs = Array{Float64}(undef, length(initpoints)*Npoints*length(timepoints))\n",
    "    for i in 1:length(initpoints)\n",
    "        x0 = [initpoints[i]]\n",
    "        temp_prob = SDEProblem(temp_f, temp_g, x0, temp_tspan, temp_p)\n",
    "        for j in 1:Npoints    \n",
    "            nsol = Array(solve(temp_prob, saveat = timepoints))\n",
    "            temp_outputs[(i-1)*length(timepoints)*Npoints+(j-1)*length(timepoints)+1:(i-1)*length(timepoints)*Npoints+(j-1)*length(timepoints)+length(timepoints)] = nsol\n",
    "        end\n",
    "    end\n",
    "    return temp_outputs\n",
    "end"
   ]
  },
  {
   "cell_type": "code",
   "execution_count": 4,
   "metadata": {},
   "outputs": [
    {
     "data": {
      "text/plain": [
       "rep_solve (generic function with 1 method)"
      ]
     },
     "execution_count": 4,
     "metadata": {},
     "output_type": "execute_result"
    }
   ],
   "source": [
    "function rep_solve(prob_arg_list, list_alpha, list_sigma)\n",
    "    outputs = Array{Array{Float64,1}}(undef,length(list_alpha),length(list_sigma))\n",
    "    for i in range(1, stop = length(list_alpha))\n",
    "        for j in range(1, stop = length(list_sigma))\n",
    "            test_p =[list_alpha[i], list_sigma[j]]\n",
    "            outputs[i, j] = solve_prob_alpha_sigma_new(test_prob_arg_list, test_p)\n",
    "        end\n",
    "    end\n",
    "    return outputs\n",
    "end"
   ]
  },
  {
   "cell_type": "code",
   "execution_count": 5,
   "metadata": {},
   "outputs": [
    {
     "name": "stdout",
     "output_type": "stream",
     "text": [
      "148.071659 seconds (1.95 G allocations: 187.596 GiB, 20.62% gc time)\n"
     ]
    },
    {
     "data": {
      "text/plain": [
       "9×5 Array{Array{Float64,1},2}:\n",
       " [-5.0, -0.152562, -0.00760598, -0.000391594, -2.39683e-5, -1.80402e-6, -1.80763e-7, -2.79901e-8, -5.28452e-9, -1.73022e-9  …  0.152562, 0.00760598, 0.000391594, 2.39683e-5, 1.80402e-6, 1.80763e-7, 2.79901e-8, 5.28452e-9, 1.73022e-9, 3.5843e-10]  …  [-5.0, -0.0952295, -0.00290688, -0.000278252, -2.08996e-5, -1.74847e-6, 8.9506e-7, -3.73008e-8, 4.39581e-7, 9.73972e-7  …  0.282461, 0.00677497, 0.000304339, 1.60504e-5, 1.58332e-6, 2.41563e-8, -3.36341e-9, -2.37146e-9, -1.13045e-9, -3.25188e-9]\n",
       " [-5.0, -0.294714, -0.0309494, -0.00329315, -0.00035519, -4.35749e-5, -5.5497e-6, -8.40332e-7, -1.73057e-7, -3.56173e-8  …  0.294714, 0.0309494, 0.00329315, 0.00035519, 4.35749e-5, 5.5497e-6, 8.40332e-7, 1.73057e-7, 3.56173e-8, 8.40334e-9]           [-5.0, -0.189152, -0.017626, -0.00258953, -0.000215778, -2.38215e-5, -2.75536e-6, 5.66287e-8, -3.24216e-8, 2.93904e-8  …  0.273166, 0.0831069, 0.00374109, 0.0012485, 0.000136588, 1.07694e-5, 3.09343e-7, 2.71327e-8, -2.20241e-8, 5.47925e-9]\n",
       " [-5.0, -0.546509, -0.119701, -0.0266934, -0.005978, -0.00134184, -0.000316396, -7.37612e-5, -1.80439e-5, -5.14754e-6  …  0.546509, 0.119701, 0.0266934, 0.005978, 0.00134184, 0.000316396, 7.37612e-5, 1.80439e-5, 5.14754e-6, 1.28457e-6]               [-5.0, -0.690119, -0.0401969, -0.011943, -0.000898732, -8.91885e-5, -8.02791e-6, -1.86096e-6, -5.55763e-7, -2.02802e-7  …  0.485291, 0.558676, 0.0190982, 0.0023854, 0.000853957, 4.99054e-5, 1.05674e-5, 2.42378e-6, 2.4382e-7, 1.84678e-8]\n",
       " [-5.0, -0.950135, -0.411942, -0.191256, -0.090006, -0.042485, -0.0200742, -0.00949447, -0.0044979, -0.00212718  …  0.950135, 0.411942, 0.191256, 0.090006, 0.042485, 0.0200742, 0.00949447, 0.0044979, 0.00212718, 0.00101009]                           [-5.0, -1.16527, -0.787359, -0.703092, -0.271136, -0.0245069, -0.0116955, -0.00116871, -0.000820638, -0.000520716  …  0.734154, 0.175532, 0.0291812, 0.0193525, 0.00608151, 0.00381169, 0.00199091, 0.000935021, 0.000352726, 0.000333927]\n",
       " [-5.0, -1.50756, -1.09109, -0.898027, -0.78087, -0.700142, -0.640187, -0.59339, -0.555555, -0.524145  …  1.50756, 1.09109, 0.898027, 0.78087, 0.700142, 0.640187, 0.59339, 0.555555, 0.524145, 0.497518]                                                 [-5.0, -1.03202, -1.33583, -1.52389, -0.586175, -0.201885, -0.033967, -0.0423332, -0.0209472, -0.0204429  …  0.856221, 0.760069, 1.41046, 0.435592, 0.336657, 0.24151, 0.121981, 0.120116, 0.0577671, 0.126507]\n",
       " [-5.0, -2.15122, -1.97884, -1.94579, -1.93861, -1.93699, -1.93661, -1.93652, -1.9365, -1.93649  …  2.15122, 1.97884, 1.94579, 1.93861, 1.93699, 1.93661, 1.93652, 1.9365, 1.93649, 1.93649]                                                           …  [-5.0, -2.54823, -2.91876, -0.824395, -0.333196, -0.103014, -0.0458752, -0.0562324, -0.0712415, -0.615355  …  0.723713, 1.06305, 2.53237, 1.43797, 1.2219, 1.53647, 1.38152, 1.94393, 1.44005, 0.711526]\n",
       " [-5.0, -2.78767, -2.74109, -2.73876, -2.73862, -2.73861, -2.73861, -2.73861, -2.73861, -2.73861  …  2.78767, 2.74109, 2.73876, 2.73862, 2.73861, 2.73861, 2.73861, 2.73861, 2.73861, 2.73861]                                                            [-5.0, -2.08631, -1.39107, -0.561683, -0.831988, -1.92223, -2.76394, -2.05959, -2.2876, -1.97374  …  4.55199, 2.8773, 2.34422, 3.49822, 1.91069, 3.41205, 2.44373, 1.56158, 1.42362, 1.14488]\n",
       " [-5.0, -3.36446, -3.35424, -3.3541, -3.3541, -3.3541, -3.3541, -3.3541, -3.3541, -3.3541  …  3.36446, 3.35424, 3.3541, 3.3541, 3.3541, 3.3541, 3.3541, 3.3541, 3.3541, 3.3541]                                                                           [-5.0, -4.23942, -4.73828, -4.42035, -2.34447, -2.46009, -3.45823, -3.68783, -2.09368, -5.31525  …  2.93862, 3.85511, 4.11636, 3.7003, 3.21601, 1.32436, 3.57012, 3.21476, 1.89513, 3.33179]\n",
       " [-5.0, -3.87501, -3.87299, -3.87298, -3.87298, -3.87298, -3.87298, -3.87298, -3.87298, -3.87298  …  3.87501, 3.87299, 3.87298, 3.87298, 3.87298, 3.87298, 3.87298, 3.87298, 3.87298, 3.87298]                                                            [-5.0, -3.86054, -3.35643, -3.10004, -3.43332, -3.83743, -2.34391, -3.62315, -3.14938, -3.97889  …  4.10577, 4.59343, 3.83769, 2.8565, 1.47863, 4.05722, 3.54627, 5.2249, 4.11913, 4.10669]"
      ]
     },
     "execution_count": 5,
     "metadata": {},
     "output_type": "execute_result"
    }
   ],
   "source": [
    "@time rep_output = rep_solve(test_prob_arg_list, test_list_alpha, test_list_sigma);\n",
    "#first dim is alpha, second dim is sigma"
   ]
  },
  {
   "cell_type": "code",
   "execution_count": 6,
   "metadata": {},
   "outputs": [
    {
     "data": {
      "text/plain": [
       "plot_rep_solve (generic function with 1 method)"
      ]
     },
     "execution_count": 6,
     "metadata": {},
     "output_type": "execute_result"
    }
   ],
   "source": [
    "function plot_rep_solve(outputs, list_alpha, list_sigma, alpha_start, alpha_end,  sigma_start, sigma_end, color_palette)\n",
    "    p = plot(xlab = \"x\", ylab = \"potential\", ylims = (-2, 0), grid = \"off\", legend = :outertopright, size = (1000,1100), palette = color_palette)\n",
    "    for i in range(alpha_start, stop = alpha_end)\n",
    "        for j in range(sigma_start, stop = sigma_end)\n",
    "            kdx_1_N200 = kde(rep_output[i,j], bandwidth = 0.05)\n",
    "            sup1 = plot!(-5.0:0.01:5.0, -log.(pdf(kdx_1_N200,-5.0:0.01:5.0).+1), # we added log shift\n",
    "                    label = \"$(test_list_alpha[i]), $(test_list_sigma[j])\")\n",
    "        end\n",
    "    end\n",
    "    return p\n",
    "end"
   ]
  },
  {
   "cell_type": "code",
   "execution_count": null,
   "metadata": {},
   "outputs": [],
   "source": [
    "p1 = plot_rep_solve(rep_output, test_list_alpha, test_list_sigma, 5, length(test_list_alpha), 1, 1, :Dark2_5)\n",
    "p2 = plot_rep_solve(rep_output, test_list_alpha, test_list_sigma, 1, 5, 1, 1, :Dark2_5)\n",
    "p3 = plot_rep_solve(rep_output, test_list_alpha, test_list_sigma, 5, length(test_list_alpha), 2, 2, :Dark2_5)\n",
    "p4 = plot_rep_solve(rep_output, test_list_alpha, test_list_sigma, 1, 5, 2, 2, :Dark2_5)\n",
    "p5 = plot_rep_solve(rep_output, test_list_alpha, test_list_sigma, 5, length(test_list_alpha), 3, 3, :Dark2_5)\n",
    "p6 = plot_rep_solve(rep_output, test_list_alpha, test_list_sigma, 1, 5, 3, 3, :Dark2_5)\n",
    "p7 = plot_rep_solve(rep_output, test_list_alpha, test_list_sigma, 5, length(test_list_alpha), 4, 4, :Dark2_5)\n",
    "p8 = plot_rep_solve(rep_output, test_list_alpha, test_list_sigma, 1, 5, 4, 4, :Dark2_5)\n",
    "p9 = plot_rep_solve(rep_output, test_list_alpha, test_list_sigma, 5, length(test_list_alpha), 5, 5, :Dark2_5)\n",
    "p10 = plot_rep_solve(rep_output, test_list_alpha, test_list_sigma, 1, 5, 5, 5, :Dark2_5)\n",
    "p_app = plot(p2, p1, p4, p3, p6, p5, p8, p7,p10, p9, layout = (5, 2))"
   ]
  },
  {
   "cell_type": "markdown",
   "metadata": {},
   "source": [
    "## Distances - Kolmogorov–Smirnov"
   ]
  },
  {
   "cell_type": "code",
   "execution_count": null,
   "metadata": {},
   "outputs": [],
   "source": [
    "# Calculates the KS distance between two distributions (approximate)\n",
    "function kolmogorov_smirnov_distance(data1::Array{Float64}, data2::Array{Float64})\n",
    "            #Produce function which returns ecdf\n",
    "            ecdf_func_1 = StatsBase.ecdf(data1)\n",
    "            ecdf_func_2 = StatsBase.ecdf(data2)\n",
    "            #find maximum value of both data sets for ecdf intervals\n",
    "            max = maximum([data1;data2])\n",
    "            intervals = max/999\n",
    "            #calculate ecdf value at each interval\n",
    "            ecdf_vals_1 = Array{Float64,1}(undef,1000)\n",
    "            for i in 1:1000\n",
    "                        ecdf_vals_1[i] = ecdf_func_1(intervals*(i-1))\n",
    "            end\n",
    "            ecdf_vals_2 = Array{Float64,1}(undef,1000)\n",
    "            for i in 1:1000\n",
    "                        ecdf_vals_2[i] = ecdf_func_2(intervals*(i-1))\n",
    "            end\n",
    "            dist = maximum(abs.(ecdf_vals_1 - ecdf_vals_2))\n",
    "            return dist\n",
    "end"
   ]
  },
  {
   "cell_type": "code",
   "execution_count": null,
   "metadata": {},
   "outputs": [],
   "source": [
    "function KS_vectors(rep_output)\n",
    "    res = Array{Float64}(undef,size(rep_output)[1],size(rep_output)[2])\n",
    "    for i in 1:size(rep_output)[1]\n",
    "        for j in 1:size(rep_output)[2]\n",
    "            res[i,j] = kolmogorov_smirnov_distance(rep_output[i,1], rep_output[i,j]) \n",
    "        end\n",
    "    end\n",
    "    return res\n",
    "end"
   ]
  },
  {
   "cell_type": "code",
   "execution_count": null,
   "metadata": {},
   "outputs": [],
   "source": [
    "function plot_KS_vectors(KS_res, test_list_sigma, test_list_alpha)\n",
    "    p1 = plot(grid = \"off\", ylab = \"KS distance to lowest noise\",size = (900,400),palette =:Dark2_5, xlab = \"increasing stochastisity\",  legend = :outertopright)\n",
    "    for i in 1:Int(round(length(test_list_alpha)/2))\n",
    "        temp_alpha = test_list_alpha[i]\n",
    "        plot!(test_list_sigma, KS_res[i,:], label = \"Alpha: $temp_alpha\")\n",
    "        scatter!(test_list_sigma, KS_res[i,:], label = \"\")\n",
    "    end\n",
    "    p2 = plot(grid = \"off\", ylab = \"KS distance to lowest noise\", size = (900,400),palette = :Dark2_5, xlab = \"increasing stochastisity\",  legend = :outertopright)\n",
    "    for i in Int(round(length(test_list_alpha)/2)):size(KS_res)[1]\n",
    "        temp_alpha = test_list_alpha[i]\n",
    "        plot!(test_list_sigma, KS_res[i,:], label = \"Alpha: $temp_alpha\")\n",
    "        scatter!(test_list_sigma, KS_res[i,:], label = \"\")\n",
    "    end\n",
    "    return p1,p2\n",
    "end"
   ]
  },
  {
   "cell_type": "code",
   "execution_count": null,
   "metadata": {},
   "outputs": [],
   "source": [
    "KS_res = KS_vectors(rep_output)\n",
    "p = plot_KS_vectors(KS_res, test_list_sigma, test_list_alpha)\n",
    "p_all =plot(p[1], p[2], layout=(1,2))"
   ]
  },
  {
   "cell_type": "markdown",
   "metadata": {},
   "source": [
    "## Distances - Hellinger"
   ]
  },
  {
   "cell_type": "code",
   "execution_count": null,
   "metadata": {},
   "outputs": [],
   "source": [
    "using Distances\n",
    "function H_vectors(rep_output)\n",
    "    resH = Array{Float64}(undef,size(rep_output)[1],size(rep_output)[2])\n",
    "    for i in 1:size(rep_output)[1]\n",
    "        for j in 1:size(rep_output)[2]\n",
    "            resH[i,j] = hellinger(abs.(rep_output[i,1]), abs.(rep_output[i,j]))\n",
    "        end\n",
    "    end\n",
    "    return resH\n",
    "end"
   ]
  },
  {
   "cell_type": "code",
   "execution_count": null,
   "metadata": {},
   "outputs": [],
   "source": [
    "function plot_H_vectors(H_res, test_list_sigma, test_list_alpha)\n",
    "    p1 = plot(grid = \"off\", ylab = \"Hellinger distance to lowest noise\",size = (900,400),palette = :default, xlab = \"increasing stochastisity\",  legend = :outertopright)\n",
    "    for i in 1:Int(round(length(test_list_alpha)/2)+1)\n",
    "        temp_alpha = test_list_alpha[i]\n",
    "        plot!(test_list_sigma, H_res[i,:], label = \"Alpha: $temp_alpha\")\n",
    "        scatter!(test_list_sigma, H_res[i,:], label = \"\")\n",
    "    end\n",
    "    p2 = plot(grid = \"off\", ylab = \"Hellinger distance to lowest noise\", size = (900,400),palette = :default, xlab = \"increasing stochastisity\",  legend = :outertopright)\n",
    "    for i in Int(round(length(test_list_alpha)/2)+1):size(H_res)[1]\n",
    "        temp_alpha = test_list_alpha[i]\n",
    "        plot!(test_list_sigma, H_res[i,:], label = \"Alpha: $temp_alpha\")\n",
    "        scatter!(test_list_sigma, H_res[i,:], label = \"\")\n",
    "    end\n",
    "    return p1,p2\n",
    "end"
   ]
  },
  {
   "cell_type": "code",
   "execution_count": null,
   "metadata": {},
   "outputs": [],
   "source": [
    "H_res = H_vectors(rep_output)\n",
    "p = plot_H_vectors(H_res, test_list_sigma, test_list_alpha)\n",
    "p_all =plot(p[1], p[2], layout=(1,2))"
   ]
  },
  {
   "cell_type": "code",
   "execution_count": null,
   "metadata": {},
   "outputs": [],
   "source": []
  }
 ],
 "metadata": {
  "kernelspec": {
   "display_name": "Julia 1.4.0",
   "language": "julia",
   "name": "julia-1.4"
  },
  "language_info": {
   "file_extension": ".jl",
   "mimetype": "application/julia",
   "name": "julia",
   "version": "1.4.2"
  }
 },
 "nbformat": 4,
 "nbformat_minor": 4
}
